{
 "cells": [
  {
   "cell_type": "markdown",
   "metadata": {},
   "source": [
    "# Working With JSON Data in Python\n",
    "JSON allows us to represent the objects in our Python programs as human-readable text that can be sent over the internet.\n",
    "\n",
    "Learn how to work with Python's built-in `json` module to serialize the data in programs into JSON format. Then deserialize some JSON from an online API and convert it into Python objects."
   ]
  },
  {
   "cell_type": "markdown",
   "metadata": {},
   "source": [
    "> Remember to install ipykernel so this notebook will recognize environment packages\n",
    ">\n",
    "> `source env/bin/activate`\n",
    ">\n",
    "> `python3 -m ipykernel install --name env`"
   ]
  },
  {
   "cell_type": "markdown",
   "metadata": {},
   "source": [
    "## What is JSON?\n",
    "**JavaScript Object Notation** (JSON) is a standardized format commonly used to transfer data as text that can be sent over a network. It's used by lots of APIs and Databases, and it's easy for both humans and machines to read.\n",
    "\n",
    "JSON represents objects as name/value pairs, just like a Python dictionary."
   ]
  },
  {
   "cell_type": "markdown",
   "metadata": {},
   "source": [
    "Remember to import the JSON module."
   ]
  },
  {
   "cell_type": "code",
   "execution_count": 1,
   "metadata": {},
   "outputs": [],
   "source": [
    "import json"
   ]
  },
  {
   "cell_type": "markdown",
   "metadata": {},
   "source": [
    "**Serialization** is the process of *encoding* data into JSON format (like converting a Python list to JSON).\n",
    "\n",
    "**Deserialization** is the process of *decoding* JSON data back into native objects to work with (like reading JSON data into a Python list)."
   ]
  },
  {
   "cell_type": "markdown",
   "metadata": {},
   "source": [
    "### Who Uses JSON?\n",
    "Youtube uses JSON to deliver information on accounts, videos, and video searches.\n",
    "\n",
    "It's also used by Twitter to interact with tweets. Google apps for getting map data. And NASA for getting imagery."
   ]
  },
  {
   "cell_type": "markdown",
   "metadata": {},
   "source": [
    "## Serializing JSON Data\n",
    "The `json` module exposes two methods for serializing Python objects into JSON format.\n",
    "\n",
    "`dump()` writes Python data to a file-like object. We use this when we want to serialize our Python data to an external JSON file.\n",
    "\n",
    "`dumps()` writes Python data to a string in JSON format. This is useful if we want to use the JSON elsewhere in our program, or if we just want to print it to the console to check that it's correct.\n",
    "\n",
    "Python and JSON do not share all the same types. Serialization will convert your Python objects into JSON format according to this table:\n",
    "\n",
    "| **Python**       | **JSON** |\n",
    "| ---------------- | -------- |\n",
    "| dict             | object   |\n",
    "| list, tuple      | array    |\n",
    "| str              | string   |\n",
    "| int, long, float | number   |\n",
    "| True             | true     |\n",
    "| False            | false    |\n",
    "| None             | null     |\n",
    "\n",
    "Both the dump() and dumps() methods allow us to specify an optional `indent` argument. This will change how many spaces is used for indentation, which can make our JSON easier to read.\n",
    "\n",
    "```python\n",
    "json_str = json.dumps(data, indent=4)\n",
    "```"
   ]
  },
  {
   "cell_type": "code",
   "execution_count": 2,
   "metadata": {},
   "outputs": [
    {
     "name": "stdout",
     "output_type": "stream",
     "text": [
      "{\n",
      "    \"user\": {\n",
      "        \"name\": \"William Williams\",\n",
      "        \"age\": 93\n",
      "    }\n",
      "}\n"
     ]
    }
   ],
   "source": [
    "data = {\n",
    "    \"user\": {\n",
    "        \"name\": \"William Williams\",\n",
    "        \"age\": 93\n",
    "    }\n",
    "}\n",
    "\n",
    "with open(\"data_file.json\", \"w\") as write_file:\n",
    "    # We use dump() here because we are writing to a file-like obj\n",
    "    # json.dump(data, write_file)\n",
    "    \n",
    "    # Make the json more readable\n",
    "    json.dump(data, write_file, indent=4)\n",
    "    \n",
    "# Print a string representation of the json data\n",
    "# json_str = json.dumps(data)\n",
    "\n",
    "# Make json more readable\n",
    "json_str = json.dumps(data, indent=4)\n",
    "print(json_str)"
   ]
  },
  {
   "cell_type": "markdown",
   "metadata": {},
   "source": [
    "## Deserializing JSON Data\n",
    "The `json` module also exposes two methods for deserializing JSON.\n",
    "\n",
    "`load()` loads JSON data from a file-like object. We use this method when we're reading in data from a file-like object.\n",
    "\n",
    "`loads()` loads JSON data from a string containing JSON-encoded data.\n",
    "\n",
    "Unless your encoded data is osmething very simple, these methods will most likely return a Python dict or list containing your deserialized data.\n",
    "\n",
    "Serialization and Deserialization are not perfectly inverse operations! This means that deserialization may not return to you the exact object you serialized.\n",
    "\n",
    "> Tuples will be serialized as JSON arrays. JSON arrays get deserialized as Python lists containing the data in a tuple. We can easily cast this back into a tuple using the `tuple()` initializer."
   ]
  },
  {
   "cell_type": "code",
   "execution_count": 3,
   "metadata": {},
   "outputs": [
    {
     "data": {
      "text/plain": [
       "[8, 'Q']"
      ]
     },
     "execution_count": 3,
     "metadata": {},
     "output_type": "execute_result"
    }
   ],
   "source": [
    "blackjack_hand = (8, \"Q\")\n",
    "\n",
    "encoded_hand = json.dumps(blackjack_hand)\n",
    "\n",
    "decoded_hand = json.loads(encoded_hand)\n",
    "\n",
    "type(decoded_hand)  # list\n",
    "\n",
    "decoded_hand"
   ]
  },
  {
   "cell_type": "code",
   "execution_count": 4,
   "metadata": {},
   "outputs": [
    {
     "data": {
      "text/plain": [
       "True"
      ]
     },
     "execution_count": 4,
     "metadata": {},
     "output_type": "execute_result"
    }
   ],
   "source": [
    "blackjack_hand == tuple(decoded_hand)"
   ]
  },
  {
   "cell_type": "markdown",
   "metadata": {},
   "source": [
    "## Working with JSON Data\n",
    "Get practice deserializing JSON data from a web API. Then manipulate the extracted data to derive meaning from it.\n",
    "\n",
    "Here is the json data location: https://jsonplaceholder.typicode.com/todos"
   ]
  },
  {
   "cell_type": "markdown",
   "metadata": {},
   "source": [
    "In order to get the json data from the API above, we have to import the `requests` module as well"
   ]
  },
  {
   "cell_type": "code",
   "execution_count": 5,
   "metadata": {},
   "outputs": [],
   "source": [
    "import requests"
   ]
  },
  {
   "cell_type": "code",
   "execution_count": 6,
   "metadata": {},
   "outputs": [
    {
     "name": "stdout",
     "output_type": "stream",
     "text": [
      "[{'userId': 1, 'id': 1, 'title': 'delectus aut autem', 'completed': False}, {'userId': 1, 'id': 2, 'title': 'quis ut nam facilis et officia qui', 'completed': False}]\n"
     ]
    }
   ],
   "source": [
    "# Make the request to the API\n",
    "response = requests.get(\n",
    "    \"https://jsonplaceholder.typicode.com/todos\"\n",
    ")\n",
    "\n",
    "# Obtain a Python list from this json data\n",
    "# Use response.text to get the content of the web request\n",
    "todos = json.loads(response.text)\n",
    "\n",
    "# NOTE: We use loads() because reponse.text returns a string\n",
    "#       containing all the JSON data\n",
    "\n",
    "# print the first 2 items in our list\n",
    "print(todos[:2])"
   ]
  },
  {
   "cell_type": "markdown",
   "metadata": {},
   "source": [
    "### Which users have completed the most todo items?"
   ]
  },
  {
   "cell_type": "code",
   "execution_count": 7,
   "metadata": {},
   "outputs": [
    {
     "name": "stdout",
     "output_type": "stream",
     "text": [
      "User(s) 5 and 10 completed 12 TODOs\n"
     ]
    }
   ],
   "source": [
    "todos_by_user = {}\n",
    "\n",
    "for todo in todos:\n",
    "    if todo[\"completed\"]:\n",
    "        # Our dictionary represents the users by their user id\n",
    "        # The try assumes the user is already in our dictionary\n",
    "        try:\n",
    "            todos_by_user[todo[\"userId\"]] += 1\n",
    "        # If the user is not in our dictionary\n",
    "        except KeyError:\n",
    "            todos_by_user[todo[\"userId\"]] = 1\n",
    "            \n",
    "# Determine what the highest number of completed items is\n",
    "# Also determine who has completed that many items\n",
    "\n",
    "# This is a sorted list of tuples\n",
    "# - Each tuple contains:\n",
    "#   - the person\n",
    "#   - how many items they've completed\n",
    "#\n",
    "# The tuples are sorted in descending order, by the number of\n",
    "# items completed\n",
    "top_users = sorted(todos_by_user.items(),\n",
    "                   key=lambda x: x[1], reverse=True)\n",
    "\n",
    "max_complete = top_users[0][1]\n",
    "\n",
    "# In order to determine which users have this completed count, we\n",
    "# define a new list called users, which holds the users that we\n",
    "# discover\n",
    "users = []\n",
    "\n",
    "# Iterate over our list of tuples\n",
    "for user, num_complete in top_users:\n",
    "    if num_complete < max_complete:\n",
    "        break\n",
    "    \n",
    "    users.append(str(user))\n",
    "    \n",
    "max_users = \" and \".join(users)\n",
    "\n",
    "print(f\"User(s) {max_users} completed {max_complete} TODOs\")"
   ]
  },
  {
   "cell_type": "markdown",
   "metadata": {},
   "source": [
    "### Create a JSON file that contains all completed TODOs for each of these users."
   ]
  },
  {
   "cell_type": "code",
   "execution_count": 10,
   "metadata": {},
   "outputs": [],
   "source": [
    "def keep(todo):\n",
    "    '''\n",
    "    Filters out todo items that were not completed by top users.\n",
    "    \n",
    "    Parameters\n",
    "    ----------\n",
    "    todo: dict\n",
    "        A todo item\n",
    "        \n",
    "    Returns\n",
    "    -------\n",
    "    bool\n",
    "        Returns True if todo is completed and assigned to top user;\n",
    "        False otherwise\n",
    "    '''\n",
    "    \n",
    "    # Figure out if item is completed\n",
    "    is_complete = todo[\"completed\"]\n",
    "    \n",
    "    # Check if item is assigned to top user\n",
    "    # Convert the user id to str because that is how it's stored\n",
    "    # in our users list\n",
    "    has_max_count = str(todo[\"userId\"]) in users\n",
    "    \n",
    "    return is_complete and has_max_count"
   ]
  },
  {
   "cell_type": "code",
   "execution_count": 11,
   "metadata": {},
   "outputs": [],
   "source": [
    "# Write json data to file\n",
    "with open(\"filtered_data_file.json\", \"w\") as data_file:\n",
    "    # Obtain a list of only the items completed by the top users\n",
    "    filtered_todos = list(filter(keep, todos))\n",
    "    \n",
    "    json.dump(filtered_todos, data_file, indent=2)"
   ]
  },
  {
   "cell_type": "markdown",
   "metadata": {},
   "source": [
    "## JSON for Custom Python Objects\n",
    "Learn how to work with types that are non-serializable.\n",
    "\n",
    "The `json` module is not capable of serializing all Python types. Non-serializable types include custom types created from classes, as well as the built-in complex type used to represent imaginary numbers.\n",
    "\n",
    "```python\n",
    "json_str = json.dumps(6 + 2j)  # Cannot serialize complex object\n",
    "```\n",
    "\n",
    "In order to serialize these types, we must extract the necessary data to recreate the object."
   ]
  },
  {
   "cell_type": "code",
   "execution_count": 14,
   "metadata": {},
   "outputs": [],
   "source": [
    "class Person:\n",
    "    \"\"\"\n",
    "    A generic Person class.\n",
    "    \n",
    "    Attributes\n",
    "    ----------\n",
    "    name : str\n",
    "        The person's name\n",
    "    age : int\n",
    "        The person's age\n",
    "    \"\"\"\n",
    "    \n",
    "    def __init__(self, name, age):\n",
    "        '''\n",
    "        Parameters\n",
    "        ----------\n",
    "        name : str\n",
    "            The person's name\n",
    "        age : int\n",
    "            The person's age\n",
    "        '''\n",
    "        self.name = name\n",
    "        self.age = age"
   ]
  },
  {
   "cell_type": "markdown",
   "metadata": {},
   "source": [
    "### Serialize the Person object into a string."
   ]
  },
  {
   "cell_type": "code",
   "execution_count": 13,
   "metadata": {},
   "outputs": [
    {
     "ename": "TypeError",
     "evalue": "Object of type Person is not JSON serializable",
     "output_type": "error",
     "traceback": [
      "\u001b[0;31m---------------------------------------------------------------------------\u001b[0m",
      "\u001b[0;31mTypeError\u001b[0m                                 Traceback (most recent call last)",
      "\u001b[0;32m<ipython-input-13-f2c2cd99af3b>\u001b[0m in \u001b[0;36m<module>\u001b[0;34m\u001b[0m\n\u001b[0;32m----> 1\u001b[0;31m \u001b[0mjson_str\u001b[0m \u001b[0;34m=\u001b[0m \u001b[0mjson\u001b[0m\u001b[0;34m.\u001b[0m\u001b[0mdumps\u001b[0m\u001b[0;34m(\u001b[0m\u001b[0mPerson\u001b[0m\u001b[0;34m(\u001b[0m\u001b[0;34m\"Will\"\u001b[0m\u001b[0;34m,\u001b[0m \u001b[0;36m29\u001b[0m\u001b[0;34m)\u001b[0m\u001b[0;34m)\u001b[0m\u001b[0;34m\u001b[0m\u001b[0;34m\u001b[0m\u001b[0m\n\u001b[0m\u001b[1;32m      2\u001b[0m \u001b[0mprint\u001b[0m\u001b[0;34m(\u001b[0m\u001b[0mjson_str\u001b[0m\u001b[0;34m)\u001b[0m\u001b[0;34m\u001b[0m\u001b[0;34m\u001b[0m\u001b[0m\n",
      "\u001b[0;32m/Library/Frameworks/Python.framework/Versions/3.8/lib/python3.8/json/__init__.py\u001b[0m in \u001b[0;36mdumps\u001b[0;34m(obj, skipkeys, ensure_ascii, check_circular, allow_nan, cls, indent, separators, default, sort_keys, **kw)\u001b[0m\n\u001b[1;32m    229\u001b[0m         \u001b[0mcls\u001b[0m \u001b[0;32mis\u001b[0m \u001b[0;32mNone\u001b[0m \u001b[0;32mand\u001b[0m \u001b[0mindent\u001b[0m \u001b[0;32mis\u001b[0m \u001b[0;32mNone\u001b[0m \u001b[0;32mand\u001b[0m \u001b[0mseparators\u001b[0m \u001b[0;32mis\u001b[0m \u001b[0;32mNone\u001b[0m \u001b[0;32mand\u001b[0m\u001b[0;34m\u001b[0m\u001b[0;34m\u001b[0m\u001b[0m\n\u001b[1;32m    230\u001b[0m         default is None and not sort_keys and not kw):\n\u001b[0;32m--> 231\u001b[0;31m         \u001b[0;32mreturn\u001b[0m \u001b[0m_default_encoder\u001b[0m\u001b[0;34m.\u001b[0m\u001b[0mencode\u001b[0m\u001b[0;34m(\u001b[0m\u001b[0mobj\u001b[0m\u001b[0;34m)\u001b[0m\u001b[0;34m\u001b[0m\u001b[0;34m\u001b[0m\u001b[0m\n\u001b[0m\u001b[1;32m    232\u001b[0m     \u001b[0;32mif\u001b[0m \u001b[0mcls\u001b[0m \u001b[0;32mis\u001b[0m \u001b[0;32mNone\u001b[0m\u001b[0;34m:\u001b[0m\u001b[0;34m\u001b[0m\u001b[0;34m\u001b[0m\u001b[0m\n\u001b[1;32m    233\u001b[0m         \u001b[0mcls\u001b[0m \u001b[0;34m=\u001b[0m \u001b[0mJSONEncoder\u001b[0m\u001b[0;34m\u001b[0m\u001b[0;34m\u001b[0m\u001b[0m\n",
      "\u001b[0;32m/Library/Frameworks/Python.framework/Versions/3.8/lib/python3.8/json/encoder.py\u001b[0m in \u001b[0;36mencode\u001b[0;34m(self, o)\u001b[0m\n\u001b[1;32m    197\u001b[0m         \u001b[0;31m# exceptions aren't as detailed.  The list call should be roughly\u001b[0m\u001b[0;34m\u001b[0m\u001b[0;34m\u001b[0m\u001b[0;34m\u001b[0m\u001b[0m\n\u001b[1;32m    198\u001b[0m         \u001b[0;31m# equivalent to the PySequence_Fast that ''.join() would do.\u001b[0m\u001b[0;34m\u001b[0m\u001b[0;34m\u001b[0m\u001b[0;34m\u001b[0m\u001b[0m\n\u001b[0;32m--> 199\u001b[0;31m         \u001b[0mchunks\u001b[0m \u001b[0;34m=\u001b[0m \u001b[0mself\u001b[0m\u001b[0;34m.\u001b[0m\u001b[0miterencode\u001b[0m\u001b[0;34m(\u001b[0m\u001b[0mo\u001b[0m\u001b[0;34m,\u001b[0m \u001b[0m_one_shot\u001b[0m\u001b[0;34m=\u001b[0m\u001b[0;32mTrue\u001b[0m\u001b[0;34m)\u001b[0m\u001b[0;34m\u001b[0m\u001b[0;34m\u001b[0m\u001b[0m\n\u001b[0m\u001b[1;32m    200\u001b[0m         \u001b[0;32mif\u001b[0m \u001b[0;32mnot\u001b[0m \u001b[0misinstance\u001b[0m\u001b[0;34m(\u001b[0m\u001b[0mchunks\u001b[0m\u001b[0;34m,\u001b[0m \u001b[0;34m(\u001b[0m\u001b[0mlist\u001b[0m\u001b[0;34m,\u001b[0m \u001b[0mtuple\u001b[0m\u001b[0;34m)\u001b[0m\u001b[0;34m)\u001b[0m\u001b[0;34m:\u001b[0m\u001b[0;34m\u001b[0m\u001b[0;34m\u001b[0m\u001b[0m\n\u001b[1;32m    201\u001b[0m             \u001b[0mchunks\u001b[0m \u001b[0;34m=\u001b[0m \u001b[0mlist\u001b[0m\u001b[0;34m(\u001b[0m\u001b[0mchunks\u001b[0m\u001b[0;34m)\u001b[0m\u001b[0;34m\u001b[0m\u001b[0;34m\u001b[0m\u001b[0m\n",
      "\u001b[0;32m/Library/Frameworks/Python.framework/Versions/3.8/lib/python3.8/json/encoder.py\u001b[0m in \u001b[0;36miterencode\u001b[0;34m(self, o, _one_shot)\u001b[0m\n\u001b[1;32m    255\u001b[0m                 \u001b[0mself\u001b[0m\u001b[0;34m.\u001b[0m\u001b[0mkey_separator\u001b[0m\u001b[0;34m,\u001b[0m \u001b[0mself\u001b[0m\u001b[0;34m.\u001b[0m\u001b[0mitem_separator\u001b[0m\u001b[0;34m,\u001b[0m \u001b[0mself\u001b[0m\u001b[0;34m.\u001b[0m\u001b[0msort_keys\u001b[0m\u001b[0;34m,\u001b[0m\u001b[0;34m\u001b[0m\u001b[0;34m\u001b[0m\u001b[0m\n\u001b[1;32m    256\u001b[0m                 self.skipkeys, _one_shot)\n\u001b[0;32m--> 257\u001b[0;31m         \u001b[0;32mreturn\u001b[0m \u001b[0m_iterencode\u001b[0m\u001b[0;34m(\u001b[0m\u001b[0mo\u001b[0m\u001b[0;34m,\u001b[0m \u001b[0;36m0\u001b[0m\u001b[0;34m)\u001b[0m\u001b[0;34m\u001b[0m\u001b[0;34m\u001b[0m\u001b[0m\n\u001b[0m\u001b[1;32m    258\u001b[0m \u001b[0;34m\u001b[0m\u001b[0m\n\u001b[1;32m    259\u001b[0m def _make_iterencode(markers, _default, _encoder, _indent, _floatstr,\n",
      "\u001b[0;32m/Library/Frameworks/Python.framework/Versions/3.8/lib/python3.8/json/encoder.py\u001b[0m in \u001b[0;36mdefault\u001b[0;34m(self, o)\u001b[0m\n\u001b[1;32m    177\u001b[0m \u001b[0;34m\u001b[0m\u001b[0m\n\u001b[1;32m    178\u001b[0m         \"\"\"\n\u001b[0;32m--> 179\u001b[0;31m         raise TypeError(f'Object of type {o.__class__.__name__} '\n\u001b[0m\u001b[1;32m    180\u001b[0m                         f'is not JSON serializable')\n\u001b[1;32m    181\u001b[0m \u001b[0;34m\u001b[0m\u001b[0m\n",
      "\u001b[0;31mTypeError\u001b[0m: Object of type Person is not JSON serializable"
     ]
    }
   ],
   "source": [
    "json_str = json.dumps(Person(\"Will\", 29))  # This fails\n",
    "print(json_str)"
   ]
  },
  {
   "cell_type": "markdown",
   "metadata": {},
   "source": [
    "### Simplifying Data Structures\n",
    "- Break the object down into simpler parts that can be serialized\n",
    "- Ask: What is the minimum amount of information necessary to recreate this object?\n",
    "- Once we extract the data from the complex or custom type, we can recreate the object"
   ]
  },
  {
   "cell_type": "markdown",
   "metadata": {},
   "source": [
    "### Example: Simplify the Complex Type\n",
    "The complex type has 2 parts: real and imaginary. That's what we'll need to recreate the complex object.\n",
    "\n",
    "The `complex` type stores both the real and imaginary parts of the complex number as `float`. Floats can be serialized by `dump()` and `dumps()`."
   ]
  },
  {
   "cell_type": "markdown",
   "metadata": {},
   "source": [
    "## Encoding Custom Types to JSON\n",
    "Learn how to encode non-serializable types into JSON.\n",
    "\n",
    "The `dump()` and `dumps()` methods allow us to include an optional argument: `default`. Here, we can specify a custom function that will break our non-serializable type down into a serializable object containing the data that's needed to reconstruct it later.\n",
    "\n",
    "```python\n",
    "json_str = json.dumps(4+6j, deafult=complex_encoder)\n",
    "```\n",
    "\n",
    "Now we would need to define `complex_encoder()` which converts our complex object into a tuple (which is serializable)"
   ]
  },
  {
   "cell_type": "code",
   "execution_count": 16,
   "metadata": {},
   "outputs": [],
   "source": [
    "def complex_encoder(z):\n",
    "    '''\n",
    "    Converts complex object into a serializable object.\n",
    "\n",
    "    Parameters\n",
    "    ----------\n",
    "    z : complex\n",
    "        The complex object to encode\n",
    "\n",
    "    Returns\n",
    "    -------\n",
    "    tuple\n",
    "        The real and imaginary parts\n",
    "\n",
    "    Raises\n",
    "    ------\n",
    "    TypeError\n",
    "        If object passed in is not serializable.\n",
    "    '''\n",
    "\n",
    "    if isinstance(z, complex):\n",
    "        return (z.real, z.imag)\n",
    "    else:\n",
    "        type_name = z.__class__.__name__\n",
    "        raise TypeError(\n",
    "            f\"Object of type {type_name} is not serializable.\"\n",
    "        )"
   ]
  },
  {
   "cell_type": "code",
   "execution_count": 17,
   "metadata": {},
   "outputs": [
    {
     "name": "stdout",
     "output_type": "stream",
     "text": [
      "[4.0, 6.0]\n"
     ]
    }
   ],
   "source": [
    "json_str = json.dumps(4+6j, default=complex_encoder)\n",
    "print(json_str)"
   ]
  },
  {
   "cell_type": "markdown",
   "metadata": {},
   "source": [
    "The above could be achieved by subclassing `json.JSONEncoder`:"
   ]
  },
  {
   "cell_type": "code",
   "execution_count": 18,
   "metadata": {},
   "outputs": [],
   "source": [
    "class ComplexEncoder(json.JSONEncoder):\n",
    "    \"\"\"\n",
    "    Encodes the complex type object.\n",
    "\n",
    "    Attributes\n",
    "    ----------\n",
    "    z : complex\n",
    "        The complex object to encode\n",
    "\n",
    "    Methods\n",
    "    -------\n",
    "    default(z)\n",
    "        Encodes complex object into a serializable object\n",
    "    \"\"\"\n",
    "    def default(self, z):\n",
    "        '''\n",
    "        Encodes complex object into a serializable object\n",
    "\n",
    "        Parameters\n",
    "        ----------\n",
    "        z : complex\n",
    "            The complex object to encode\n",
    "\n",
    "        Returns\n",
    "        -------\n",
    "        tuple\n",
    "            The real and imaginary parts\n",
    "        '''\n",
    "        if isinstance(z, complex):\n",
    "            return (z.real, z.imag)\n",
    "        else:\n",
    "            return super().default(z)"
   ]
  },
  {
   "cell_type": "markdown",
   "metadata": {},
   "source": [
    "If this method is chosen, `default` won't work. We need to use `cls` instead:"
   ]
  },
  {
   "cell_type": "code",
   "execution_count": 19,
   "metadata": {},
   "outputs": [
    {
     "name": "stdout",
     "output_type": "stream",
     "text": [
      "[4.0, 6.0]\n"
     ]
    }
   ],
   "source": [
    "json_str = json.dumps(4+6j, cls=ComplexEncoder)\n",
    "print(json_str)"
   ]
  },
  {
   "cell_type": "markdown",
   "metadata": {},
   "source": [
    "## Decoding Custom Types from JSON\n",
    "Learn how to deserialize a non-serializable type given in a JSON file."
   ]
  },
  {
   "cell_type": "markdown",
   "metadata": {},
   "source": [
    "We can represent a complex object in JSON like this:\n",
    "\n",
    "> ```python\n",
    "> {\n",
    ">     \"__complex__\": true,\n",
    ">     \"real\": 42,\n",
    ">     \"imaginary\": 36\n",
    "> }\n",
    "> ```\n",
    "\n",
    "If we let `load()` deserialize this, we'll get a Python dict instead of our desired complex object. That's because JSON objects deserialize to Python dict. We can write a custom decoder function that will read this dictionary and return our desired complex object."
   ]
  },
  {
   "cell_type": "code",
   "execution_count": 21,
   "metadata": {},
   "outputs": [],
   "source": [
    "def decode_complex(dct):\n",
    "    '''\n",
    "    Decodes dictionary into a complex object.\n",
    "    \n",
    "    Parameters\n",
    "    ----------\n",
    "    dct : dict\n",
    "        The dictionary to decode\n",
    "        \n",
    "    Returns\n",
    "    -------\n",
    "    complex\n",
    "        Returns a complex object if input has complex properties,\n",
    "        otherwise the input is returned\n",
    "    '''\n",
    "    if \"__complex__\" in dct:\n",
    "        return complex(dct[\"real\"], dct[\"imaginary\"])\n",
    "    else:\n",
    "        return dct"
   ]
  },
  {
   "cell_type": "markdown",
   "metadata": {},
   "source": [
    "Now we can read in our JSON file and deserialize it. We can use the optional `object_hook` argument to specify our decoding function."
   ]
  },
  {
   "cell_type": "code",
   "execution_count": 22,
   "metadata": {},
   "outputs": [],
   "source": [
    "with open(\"complex_data.json\") as complex_data:\n",
    "    z = json.load(complex_data, object_hook=decode_complex)"
   ]
  },
  {
   "cell_type": "markdown",
   "metadata": {},
   "source": [
    "We can now see we deserialized a complex object from a JSON file."
   ]
  },
  {
   "cell_type": "code",
   "execution_count": 25,
   "metadata": {},
   "outputs": [
    {
     "name": "stdout",
     "output_type": "stream",
     "text": [
      "<class 'complex'>\n",
      "(42+36j)\n"
     ]
    }
   ],
   "source": [
    "print(type(z))\n",
    "print(z)"
   ]
  }
 ],
 "metadata": {
  "kernelspec": {
   "display_name": "env",
   "language": "python",
   "name": "env"
  },
  "language_info": {
   "codemirror_mode": {
    "name": "ipython",
    "version": 3
   },
   "file_extension": ".py",
   "mimetype": "text/x-python",
   "name": "python",
   "nbconvert_exporter": "python",
   "pygments_lexer": "ipython3",
   "version": "3.8.1"
  }
 },
 "nbformat": 4,
 "nbformat_minor": 2
}
